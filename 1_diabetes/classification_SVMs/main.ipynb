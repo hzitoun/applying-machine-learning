{
 "cells": [
  {
   "cell_type": "markdown",
   "metadata": {},
   "source": [
    "# Processing Diabetes DataSet with Support Vector Machines"
   ]
  },
  {
   "cell_type": "code",
   "execution_count": 129,
   "metadata": {
    "collapsed": false
   },
   "outputs": [],
   "source": [
    "from sklearn import svm\n",
    "from featureNormalize import featureNormalize\n",
    "import numpy as np\n",
    "import pandas as pd\n",
    "import scipy.optimize as op\n",
    "# used to split data in train and test sets\n",
    "from sklearn.model_selection import train_test_split\n",
    "# for accuracy metrics\n",
    "from sklearn.metrics import accuracy_score\n",
    "\n",
    "# for features scaling\n",
    "# from sklearn.preprocessing import StandardScaler, MinMaxScaler, normalize\n",
    "\n",
    "# precision, recall & f1 score\n",
    "from sklearn.metrics import precision_recall_fscore_support"
   ]
  },
  {
   "cell_type": "markdown",
   "metadata": {},
   "source": [
    "## Loading Data and Normalizing Features"
   ]
  },
  {
   "cell_type": "code",
   "execution_count": 130,
   "metadata": {
    "collapsed": false
   },
   "outputs": [],
   "source": [
    "# Load an example dataset that we will be using\n",
    "file_path = '../../data/1_diabetes.csv'\n",
    "df = pd.read_csv(file_path)\n",
    "\n",
    "# describe data\n",
    "# print(df.describe())\n",
    "\n",
    "features = df.drop('Outcome', axis=1)\n",
    "labels = df['Outcome']\n",
    "\n",
    "X = features.as_matrix()\n",
    "y = labels.as_matrix().ravel()\n",
    "\n",
    "\n",
    "X_train, X_test, y_train, y_test = train_test_split(X, y, test_size=0.33, shuffle=True)\n",
    "\n",
    "#  Z-Score or mean normalise features\n",
    "X_norm, mu, sigma = featureNormalize(X_train)"
   ]
  },
  {
   "cell_type": "markdown",
   "metadata": {},
   "source": [
    "## Training SVM with Linear Kernel"
   ]
  },
  {
   "cell_type": "code",
   "execution_count": 132,
   "metadata": {
    "collapsed": false
   },
   "outputs": [
    {
     "name": "stdout",
     "output_type": "stream",
     "text": [
      "\n",
      "Training SVM with Linear Kernel...\n",
      "\n",
      "\n",
      "Training Done\n",
      "\n"
     ]
    }
   ],
   "source": [
    "print('\\nTraining SVM with Linear Kernel...\\n')\n",
    "\n",
    "# SVM Parameters\n",
    "C = 1\n",
    "\n",
    "model = svm.LinearSVC(C=C, tol=1e-3, max_iter=200)\n",
    "model.fit(X_norm, y_train)\n",
    "print('\\nTraining Done\\n')"
   ]
  },
  {
   "cell_type": "markdown",
   "metadata": {},
   "source": [
    "## Make prediction"
   ]
  },
  {
   "cell_type": "code",
   "execution_count": 133,
   "metadata": {
    "collapsed": false
   },
   "outputs": [
    {
     "name": "stdout",
     "output_type": "stream",
     "text": [
      "\n",
      "Training Set Accuracy:  76.1194029851 \n",
      "\n"
     ]
    }
   ],
   "source": [
    "p = model.predict(X_norm)\n",
    "print('\\nTraining Set Accuracy: ', accuracy_score(y_train, p) * 100, '\\n')"
   ]
  },
  {
   "cell_type": "markdown",
   "metadata": {},
   "source": [
    "## Test Accuracy "
   ]
  },
  {
   "cell_type": "code",
   "execution_count": 134,
   "metadata": {
    "collapsed": false
   },
   "outputs": [
    {
     "name": "stdout",
     "output_type": "stream",
     "text": [
      "\n",
      "Test Set Accuracy:  78.4848484848 \n",
      "\n",
      "F1 Score =  0.735958348359\n"
     ]
    }
   ],
   "source": [
    "normalized_test_data = np.divide(X_test - mu, sigma)\n",
    "p = model.predict(normalized_test_data)\n",
    "print('\\nTest Set Accuracy: ', accuracy_score(y_test, p) * 100, '\\n')\n",
    "precision,  recall,  f1_score,  support = precision_recall_fscore_support(y_test, p, average='macro')\n",
    "print(\"F1 Score = \", f1_score)"
   ]
  }
 ],
 "metadata": {
  "anaconda-cloud": {},
  "kernelspec": {
   "display_name": "Python [default]",
   "language": "python",
   "name": "python3"
  },
  "language_info": {
   "codemirror_mode": {
    "name": "ipython",
    "version": 3
   },
   "file_extension": ".py",
   "mimetype": "text/x-python",
   "name": "python",
   "nbconvert_exporter": "python",
   "pygments_lexer": "ipython3",
   "version": "3.5.2"
  }
 },
 "nbformat": 4,
 "nbformat_minor": 1
}
