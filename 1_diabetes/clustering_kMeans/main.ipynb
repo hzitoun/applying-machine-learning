{
 "cells": [
  {
   "cell_type": "markdown",
   "metadata": {},
   "source": [
    "# Processing Diabetes DataSet with K-Means Clustering"
   ]
  },
  {
   "cell_type": "code",
   "execution_count": 2,
   "metadata": {
    "collapsed": false
   },
   "outputs": [],
   "source": [
    "from findClosestCentroids import find_closest_centroids\n",
    "from kMeansInitCentroids import kmeans_init_centroids\n",
    "from runKMeans import run_kmeans\n",
    "from featureNormalize import featureNormalize\n",
    "\n",
    "import numpy as np\n",
    "import pandas as pd\n",
    "# used to split data in train and test sets\n",
    "from sklearn.model_selection import train_test_split\n",
    "#for metrics\n",
    "from sklearn.metrics import accuracy_score"
   ]
  },
  {
   "cell_type": "markdown",
   "metadata": {},
   "source": [
    "## Loading and normalizing features\n"
   ]
  },
  {
   "cell_type": "code",
   "execution_count": 3,
   "metadata": {
    "collapsed": false
   },
   "outputs": [],
   "source": [
    "# Load an example dataset that we will be using\n",
    "file_path = '../../data/1_diabetes.csv'\n",
    "df = pd.read_csv(file_path)\n",
    "\n",
    "features = df.drop('Outcome', axis=1)\n",
    "labels = df['Outcome']\n",
    "\n",
    "X = features.as_matrix()\n",
    "y = labels.as_matrix().flatten()\n",
    "\n",
    "\n",
    "X_train, X_test, y_train, y_test = train_test_split(X, y, test_size=0.33)\n",
    "\n",
    "#normalise features\n",
    "X_norm, mu, sigma = featureNormalize(X_train)"
   ]
  },
  {
   "cell_type": "markdown",
   "metadata": {},
   "source": [
    "## Running K-Means Clustering"
   ]
  },
  {
   "cell_type": "code",
   "execution_count": 8,
   "metadata": {
    "collapsed": false
   },
   "outputs": [
    {
     "name": "stdout",
     "output_type": "stream",
     "text": [
      "\n",
      "Running K-Means clustering on example dataset.\n",
      "\n",
      "\n",
      "K-Means iteration 0/10...\n",
      "K-Means iteration 1/10...\n",
      "K-Means iteration 2/10...\n",
      "K-Means iteration 3/10...\n",
      "K-Means iteration 4/10...\n",
      "K-Means iteration 5/10...\n",
      "K-Means iteration 6/10...\n",
      "K-Means iteration 7/10...\n",
      "K-Means iteration 8/10...\n",
      "K-Means iteration 9/10...\n",
      "\n",
      "K-Means Done.\n",
      "\n",
      "\n",
      "\n",
      "Training Set Accuracy:  67.7611940299 \n",
      "\n"
     ]
    }
   ],
   "source": [
    "print('\\nRunning K-Means clustering on example dataset.\\n\\n')\n",
    "\n",
    "# Settings for running K-Means\n",
    "K = 2\n",
    "max_iters = 10\n",
    "initial_centroids = kmeans_init_centroids(X_norm, K)\n",
    "# Run K-Means algorithm. The 'true' at the end tells our function to plot\n",
    "# the progress of K-Means\n",
    "centroids, idx = run_kmeans(X_norm, initial_centroids, max_iters, False)\n",
    "print('\\nK-Means Done.\\n\\n')\n",
    "\n",
    "idx = idx.flatten().astype(int)\n",
    "\n",
    "print('\\nTraining Set Accuracy: ', accuracy_score(y_train, idx) * 100, '\\n')"
   ]
  },
  {
   "cell_type": "markdown",
   "metadata": {},
   "source": [
    "## Test "
   ]
  },
  {
   "cell_type": "code",
   "execution_count": 9,
   "metadata": {
    "collapsed": false
   },
   "outputs": [
    {
     "name": "stdout",
     "output_type": "stream",
     "text": [
      "\n",
      "Test Set Accuracy:  61.6666666667 \n",
      "\n"
     ]
    }
   ],
   "source": [
    "normalized_test_data = np.divide(X_test - mu, sigma)\n",
    "idx = find_closest_centroids(normalized_test_data, centroids)\n",
    "print('\\nTest Set Accuracy: ', accuracy_score(y_test, idx) * 100, '\\n')\n"
   ]
  }
 ],
 "metadata": {
  "anaconda-cloud": {},
  "kernelspec": {
   "display_name": "Python [conda env:Anaconda3]",
   "language": "python",
   "name": "conda-env-Anaconda3-py"
  },
  "language_info": {
   "codemirror_mode": {
    "name": "ipython",
    "version": 3
   },
   "file_extension": ".py",
   "mimetype": "text/x-python",
   "name": "python",
   "nbconvert_exporter": "python",
   "pygments_lexer": "ipython3",
   "version": "3.5.2"
  }
 },
 "nbformat": 4,
 "nbformat_minor": 1
}
