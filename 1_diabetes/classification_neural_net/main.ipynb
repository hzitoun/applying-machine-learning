{
 "cells": [
  {
   "cell_type": "markdown",
   "metadata": {},
   "source": [
    "# Processing Diabetes DataSet with Neural Networks"
   ]
  },
  {
   "cell_type": "code",
   "execution_count": 57,
   "metadata": {
    "collapsed": false
   },
   "outputs": [],
   "source": [
    "from nnCostFunction import nnCostFunction\n",
    "from sigmoid import sigmoid\n",
    "from sigmoidGradient import sigmoidGradient\n",
    "from randInitializeWeights import randInitializeWeights\n",
    "from checkNNGradients import checkNNGradients\n",
    "from featureNormalize import featureNormalize\n",
    "\n",
    "\n",
    "import scipy.optimize as op\n",
    "import matplotlib.pyplot as plt\n",
    "import numpy as np\n",
    "import pandas as pd\n",
    "# used to split data in train and test sets\n",
    "from sklearn.model_selection import train_test_split\n",
    "# for accuracy metrics\n",
    "from sklearn.metrics import accuracy_score\n",
    "# precision, recall & f1 score\n",
    "from sklearn.metrics import precision_recall_fscore_support"
   ]
  },
  {
   "cell_type": "markdown",
   "metadata": {},
   "source": [
    "## Loading and normalizing features"
   ]
  },
  {
   "cell_type": "code",
   "execution_count": 2,
   "metadata": {
    "collapsed": false
   },
   "outputs": [],
   "source": [
    "# Load an example dataset that we will be using\n",
    "file_path = '../../data/1_diabetes.csv'\n",
    "df = pd.read_csv(file_path)\n",
    "\n",
    "features = df.drop('Outcome', axis=1)\n",
    "labels = df['Outcome']\n",
    "\n",
    "X = features.as_matrix()\n",
    "y = labels.as_matrix().reshape(-1, 1)\n",
    "\n",
    "\n",
    "X_train, X_test, y_train, y_test = train_test_split(X, y, test_size=0.33)\n",
    "\n",
    "m, n = X_train.shape\n",
    "\n",
    "#normalise features\n",
    "X_norm, mu, sigma = featureNormalize(X_train)\n",
    "\n",
    "# add bias\n",
    "X_norm = np.c_[np.ones((m, 1)), X_norm]"
   ]
  },
  {
   "cell_type": "markdown",
   "metadata": {},
   "source": [
    "## Setup NNs parameters"
   ]
  },
  {
   "cell_type": "code",
   "execution_count": 52,
   "metadata": {
    "collapsed": true
   },
   "outputs": [],
   "source": [
    "input_layer_size  = n + 1 # n = number of features\n",
    "hidden_layer_size = 30    # 25 hidden units\n",
    "num_labels = 2            # 2 labels,  0 or 1\n",
    "initial_Theta1 = randInitializeWeights(input_layer_size, hidden_layer_size)\n",
    "initial_Theta2 = randInitializeWeights(hidden_layer_size, num_labels)\n",
    "\n",
    "# Unroll parameters\n",
    "initial_nn_params = np.r_[initial_Theta1.ravel(), initial_Theta2.ravel()]    "
   ]
  },
  {
   "cell_type": "markdown",
   "metadata": {},
   "source": [
    "##  Training NN"
   ]
  },
  {
   "cell_type": "code",
   "execution_count": 75,
   "metadata": {
    "collapsed": false
   },
   "outputs": [
    {
     "name": "stdout",
     "output_type": "stream",
     "text": [
      "\n",
      "Training Neural Network... \n",
      "\n",
      "Neural Network trained successfully... \n",
      "\n"
     ]
    }
   ],
   "source": [
    "print('\\nTraining Neural Network... \\n')\n",
    "\n",
    "# regularization rate\n",
    "reg_lambda = 0\n",
    "\n",
    "# iterations count\n",
    "max_iter = 200\n",
    "\n",
    "# Short hand for cost function\n",
    "costFunc = lambda params: nnCostFunction(params, input_layer_size, hidden_layer_size, num_labels, X_norm, y_train, reg_lambda,\n",
    "                                         returnOnlyCost=True)\n",
    "gradFunc = lambda params: nnCostFunction(params, input_layer_size, hidden_layer_size, num_labels, X_norm, y_train, reg_lambda, \n",
    "                                         returnOnlyGrad=True, flattenResult=True)\n",
    "\n",
    "# Run fmincg to obtain the optimal theta\n",
    "Result = op.minimize(fun = costFunc, x0 = initial_nn_params, method = 'TNC', jac = gradFunc, \n",
    "                     options={'maxiter' : max_iter, 'disp': True})\n",
    "\n",
    "optimal_nn_params = Result.x\n",
    "\n",
    "# Obtain Theta1 and Theta2 back from nn_params\n",
    "Theta1 = np.reshape(optimal_nn_params[0:hidden_layer_size * (input_layer_size + 1)], (hidden_layer_size, input_layer_size + 1))\n",
    "Theta2 = np.reshape(optimal_nn_params[(hidden_layer_size * (input_layer_size + 1)):], (num_labels, hidden_layer_size + 1))\n",
    "\n",
    "print('Neural Network trained successfully... \\n')"
   ]
  },
  {
   "cell_type": "markdown",
   "metadata": {},
   "source": [
    "## Predict\n"
   ]
  },
  {
   "cell_type": "code",
   "execution_count": 82,
   "metadata": {
    "collapsed": false
   },
   "outputs": [
    {
     "name": "stdout",
     "output_type": "stream",
     "text": [
      "\n",
      "Training Set Accuracy:  67.0895522388 \n",
      "\n",
      "\n",
      "Test Set Accuracy:  68.1818181818 \n",
      "\n",
      "F1 Score =  0.44714798564\n"
     ]
    }
   ],
   "source": [
    "def predict(Theta1, Theta2, X, threshold):\n",
    "    m = X.shape[0]  \n",
    "    h1 = sigmoid(np.c_[np.ones((m, 1)), X].dot(Theta1.T))\n",
    "    h2 = sigmoid(np.c_[np.ones((m, 1)), h1].dot(Theta2.T))   \n",
    "    # each row is  (probability to be 0, probability to be 1)\n",
    "    # so we take the prob to be 1 and compare it to threshold\n",
    "    return h2[:, 1] >= threshold\n",
    "\n",
    "threshold = 0.99 # prob from it we consider the patient to be diabetic \n",
    "\n",
    "p = predict(Theta1, Theta2, X_norm, threshold).astype(int).reshape(X_norm.shape[0], 1)\n",
    "print('\\nTraining Set Accuracy: ', accuracy_score(y_train, p) *100, '\\n')\n",
    "\n",
    "normalized_test_data = np.divide(X_test - mu, sigma)\n",
    "test_data = np.c_[np.ones((normalized_test_data.shape[0], 1)), normalized_test_data]\n",
    "p = predict(Theta1, Theta2,test_data , threshold).astype(int).reshape(normalized_test_data.shape[0], 1)\n",
    "print('\\nTest Set Accuracy: ', accuracy_score(y_test, p) *100, '\\n')\n",
    "\n",
    "precision,  recall,  f1_score,  support = precision_recall_fscore_support(y_test, p, average='macro')\n",
    "print(\"F1 Score = \", f1_score)"
   ]
  }
 ],
 "metadata": {
  "anaconda-cloud": {},
  "kernelspec": {
   "display_name": "Python [default]",
   "language": "python",
   "name": "python3"
  },
  "language_info": {
   "codemirror_mode": {
    "name": "ipython",
    "version": 3
   },
   "file_extension": ".py",
   "mimetype": "text/x-python",
   "name": "python",
   "nbconvert_exporter": "python",
   "pygments_lexer": "ipython3",
   "version": "3.5.2"
  }
 },
 "nbformat": 4,
 "nbformat_minor": 1
}
