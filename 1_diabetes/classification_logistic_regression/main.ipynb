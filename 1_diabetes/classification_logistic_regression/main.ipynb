{
 "cells": [
  {
   "cell_type": "markdown",
   "metadata": {},
   "source": [
    "# Processing Diabetes DataSet with Logistic Regression"
   ]
  },
  {
   "cell_type": "code",
   "execution_count": 30,
   "metadata": {
    "collapsed": false
   },
   "outputs": [],
   "source": [
    "from costFunction import costFunction\n",
    "from gradient import gradient\n",
    "from featureNormalize import featureNormalize\n",
    "from sigmoid import sigmoid\n",
    "\n",
    "import numpy as np\n",
    "import pandas as pd\n",
    "import scipy.optimize as op\n",
    "# used to split data in train and test sets\n",
    "from sklearn.model_selection import train_test_split\n",
    "# for accuracy metrics\n",
    "from sklearn.metrics import accuracy_score\n",
    "\n",
    "# precision, recall & f1 score\n",
    "from sklearn.metrics import precision_recall_fscore_support"
   ]
  },
  {
   "cell_type": "markdown",
   "metadata": {},
   "source": [
    "## Loading and normalizing features"
   ]
  },
  {
   "cell_type": "code",
   "execution_count": 7,
   "metadata": {
    "collapsed": false
   },
   "outputs": [],
   "source": [
    "# Load an example dataset that we will be using\n",
    "file_path = '../../data/1_diabetes.csv'\n",
    "df = pd.read_csv(file_path)\n",
    "\n",
    "features = df.drop('Outcome', axis=1)\n",
    "labels = df['Outcome']\n",
    "\n",
    "X = features.as_matrix()\n",
    "y = labels.as_matrix().reshape(-1, 1)\n",
    "\n",
    "\n",
    "X_train, X_test, y_train, y_test = train_test_split(X, y, test_size=0.33)\n",
    "\n",
    "m, n = X_train.shape\n",
    "\n",
    "#normalise features\n",
    "X_norm, mu, sigma = featureNormalize(X_train)\n",
    "\n",
    "# add bias\n",
    "X_norm = np.c_[np.ones((m, 1)), X_norm]"
   ]
  },
  {
   "cell_type": "markdown",
   "metadata": {},
   "source": [
    "## Running Regularized Logistic Regression"
   ]
  },
  {
   "cell_type": "code",
   "execution_count": 41,
   "metadata": {
    "collapsed": false
   },
   "outputs": [
    {
     "name": "stdout",
     "output_type": "stream",
     "text": [
      "\n",
      "Training Set Accuracy:  77.7611940299 \n",
      "\n"
     ]
    }
   ],
   "source": [
    "# Initialize fitting parameters\n",
    "initial_theta = np.zeros((n + 1, 1))\n",
    "\n",
    "# Set regularization parameter lambda to 1\n",
    "reg_lambda = 1\n",
    "\n",
    "maxiter = 100\n",
    "\n",
    "# Optimize\n",
    "Result = op.minimize(fun = costFunction, x0 = initial_theta, args = (X_norm, y_train, reg_lambda, True), method = 'TNC', \n",
    "                     jac = gradient, options={'disp': True, 'maxiter' : maxiter})\n",
    "optimal_theta = Result.x\n",
    "\n",
    "threshold = 0.8\n",
    "\n",
    "def predict(theta, X, threshold = 0.5):    \n",
    "    return sigmoid(np.dot(X, theta)) >= threshold \n",
    "\n",
    "p = predict(optimal_theta, X_norm)\n",
    "print('\\nTraining Set Accuracy: ', accuracy_score(y_train, p) * 100, '\\n')"
   ]
  },
  {
   "cell_type": "markdown",
   "metadata": {},
   "source": [
    "## Test"
   ]
  },
  {
   "cell_type": "code",
   "execution_count": 32,
   "metadata": {
    "collapsed": false
   },
   "outputs": [
    {
     "name": "stdout",
     "output_type": "stream",
     "text": [
      "\n",
      "Test Set Accuracy:  70.4545454545 \n",
      "\n",
      "F1 Score =  0.559184680041\n"
     ]
    }
   ],
   "source": [
    "normalized_test_data = np.divide(X_test - mu, sigma)\n",
    "p = predict(optimal_theta, np.c_[np.ones((normalized_test_data.shape[0], 1)), normalized_test_data], threshold)\n",
    "print('\\nTest Set Accuracy: ', accuracy_score(y_test, p) * 100, '\\n')\n",
    "precision,  recall,  f1_score,  support = precision_recall_fscore_support(y_test, p, average='macro')\n",
    "print(\"F1 Score = \", f1_score)"
   ]
  }
 ],
 "metadata": {
  "anaconda-cloud": {},
  "kernelspec": {
   "display_name": "Python [default]",
   "language": "python",
   "name": "python3"
  },
  "language_info": {
   "codemirror_mode": {
    "name": "ipython",
    "version": 3
   },
   "file_extension": ".py",
   "mimetype": "text/x-python",
   "name": "python",
   "nbconvert_exporter": "python",
   "pygments_lexer": "ipython3",
   "version": "3.5.2"
  }
 },
 "nbformat": 4,
 "nbformat_minor": 1
}
